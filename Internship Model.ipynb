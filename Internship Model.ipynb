{
 "cells": [
  {
   "cell_type": "code",
   "execution_count": 2,
   "id": "3e266341",
   "metadata": {},
   "outputs": [],
   "source": [
    "import pandas as pd\n",
    "from  sklearn.model_selection import train_test_split\n",
    "from sklearn.preprocessing import LabelEncoder\n",
    "from sklearn.linear_model import LinearRegression\n",
    "import matplotlib.pyplot as plt"
   ]
  },
  {
   "cell_type": "code",
   "execution_count": 21,
   "id": "2456aa45",
   "metadata": {},
   "outputs": [
    {
     "name": "stderr",
     "output_type": "stream",
     "text": [
      "C:\\Users\\Simu\\AppData\\Local\\Temp\\ipykernel_14600\\2164511917.py:2: DtypeWarning: Columns (12) have mixed types. Specify dtype option on import or set low_memory=False.\n",
      "  Data = pd.read_csv(\"C:/Users/Simu/Desktop/simarleen TY/TCS INTERNSHIP/HR_DATA_2LAKH.csv\")\n"
     ]
    }
   ],
   "source": [
    "#Load the dataset \n",
    "Data = pd.read_csv(\"C:/Users/Simu/Desktop/simarleen TY/TCS INTERNSHIP/HR_DATA_2LAKH.csv\")"
   ]
  },
  {
   "cell_type": "code",
   "execution_count": 34,
   "id": "1452a98e",
   "metadata": {},
   "outputs": [
    {
     "name": "stdout",
     "output_type": "stream",
     "text": [
      "   GenderID  DeptID  PerfScoreID  Salary  PositionID  Position  State     Zip  \\\n",
      "0         1       5            4   62506          19        22     10  1960.0   \n",
      "1         1       3            3  104437          27        30     10  2148.0   \n",
      "2         0       5            3   64955          20        23     10  1810.0   \n",
      "3         0       5            3   64991          19        22     10  1886.0   \n",
      "4         0       5            3   50825          19        22     10  2169.0   \n",
      "\n",
      "  Sex  CitizenDesc  ...  RecruitmentSource PerformanceScore EngagementSurvey  \\\n",
      "0  M             2  ...           LinkedIn          Exceeds             4.60   \n",
      "1  M             2  ...             Indeed      Fully Meets             4.96   \n",
      "2   F            2  ...           LinkedIn      Fully Meets             3.02   \n",
      "3   F            2  ...             Indeed      Fully Meets             4.84   \n",
      "4   F            2  ...      Google Search      Fully Meets             5.00   \n",
      "\n",
      "   EmpSatisfaction  SpecialProjectsCount  LastPerformanceReview_Date  \\\n",
      "0                5                     0                  17-01-2019   \n",
      "1                3                     6                  24-02-2016   \n",
      "2                3                     0                  15-05-2012   \n",
      "3                5                     0                  03-01-2019   \n",
      "4                4                     0                  01-02-2016   \n",
      "\n",
      "  DaysLateLast30  Absences  Age  LPRD_years  \n",
      "0              0         1   40           4  \n",
      "1              0        17   48           7  \n",
      "2              0         3   34          11  \n",
      "3              0        15   34           4  \n",
      "4              0         2   33           7  \n",
      "\n",
      "[5 rows x 21 columns]\n"
     ]
    }
   ],
   "source": [
    "#Encode categorical Variables (if any)\n",
    "encoder = LabelEncoder()\n",
    "Data['Position']= encoder.fit_transform(Data['Position'])\n",
    "Data['Department']= encoder.fit_transform(Data['Department'])\n",
    "Data['State']=encoder.fit_transform(Data['State'])\n",
    "print(Data.head())    "
   ]
  },
  {
   "cell_type": "code",
   "execution_count": 35,
   "id": "e35a835d",
   "metadata": {},
   "outputs": [],
   "source": [
    "# Split the data into features (x) and target (y)\n",
    "x = Data[['Position','Department','State']]\n",
    "y = Data['Salary']"
   ]
  },
  {
   "cell_type": "code",
   "execution_count": 36,
   "id": "6780b5d0",
   "metadata": {},
   "outputs": [],
   "source": [
    "# split the dataset into training set and testing set\n",
    "x_train, x_test, y_train, y_test = train_test_split(x,y, test_size=0.2, random_state=42)"
   ]
  },
  {
   "cell_type": "code",
   "execution_count": 37,
   "id": "a3883f4f",
   "metadata": {},
   "outputs": [],
   "source": [
    "#Create a Linear Regression Model\n",
    "model = LinearRegression()"
   ]
  },
  {
   "cell_type": "code",
   "execution_count": 38,
   "id": "7738ea21",
   "metadata": {},
   "outputs": [
    {
     "data": {
      "text/html": [
       "<style>#sk-container-id-4 {color: black;}#sk-container-id-4 pre{padding: 0;}#sk-container-id-4 div.sk-toggleable {background-color: white;}#sk-container-id-4 label.sk-toggleable__label {cursor: pointer;display: block;width: 100%;margin-bottom: 0;padding: 0.3em;box-sizing: border-box;text-align: center;}#sk-container-id-4 label.sk-toggleable__label-arrow:before {content: \"▸\";float: left;margin-right: 0.25em;color: #696969;}#sk-container-id-4 label.sk-toggleable__label-arrow:hover:before {color: black;}#sk-container-id-4 div.sk-estimator:hover label.sk-toggleable__label-arrow:before {color: black;}#sk-container-id-4 div.sk-toggleable__content {max-height: 0;max-width: 0;overflow: hidden;text-align: left;background-color: #f0f8ff;}#sk-container-id-4 div.sk-toggleable__content pre {margin: 0.2em;color: black;border-radius: 0.25em;background-color: #f0f8ff;}#sk-container-id-4 input.sk-toggleable__control:checked~div.sk-toggleable__content {max-height: 200px;max-width: 100%;overflow: auto;}#sk-container-id-4 input.sk-toggleable__control:checked~label.sk-toggleable__label-arrow:before {content: \"▾\";}#sk-container-id-4 div.sk-estimator input.sk-toggleable__control:checked~label.sk-toggleable__label {background-color: #d4ebff;}#sk-container-id-4 div.sk-label input.sk-toggleable__control:checked~label.sk-toggleable__label {background-color: #d4ebff;}#sk-container-id-4 input.sk-hidden--visually {border: 0;clip: rect(1px 1px 1px 1px);clip: rect(1px, 1px, 1px, 1px);height: 1px;margin: -1px;overflow: hidden;padding: 0;position: absolute;width: 1px;}#sk-container-id-4 div.sk-estimator {font-family: monospace;background-color: #f0f8ff;border: 1px dotted black;border-radius: 0.25em;box-sizing: border-box;margin-bottom: 0.5em;}#sk-container-id-4 div.sk-estimator:hover {background-color: #d4ebff;}#sk-container-id-4 div.sk-parallel-item::after {content: \"\";width: 100%;border-bottom: 1px solid gray;flex-grow: 1;}#sk-container-id-4 div.sk-label:hover label.sk-toggleable__label {background-color: #d4ebff;}#sk-container-id-4 div.sk-serial::before {content: \"\";position: absolute;border-left: 1px solid gray;box-sizing: border-box;top: 0;bottom: 0;left: 50%;z-index: 0;}#sk-container-id-4 div.sk-serial {display: flex;flex-direction: column;align-items: center;background-color: white;padding-right: 0.2em;padding-left: 0.2em;position: relative;}#sk-container-id-4 div.sk-item {position: relative;z-index: 1;}#sk-container-id-4 div.sk-parallel {display: flex;align-items: stretch;justify-content: center;background-color: white;position: relative;}#sk-container-id-4 div.sk-item::before, #sk-container-id-4 div.sk-parallel-item::before {content: \"\";position: absolute;border-left: 1px solid gray;box-sizing: border-box;top: 0;bottom: 0;left: 50%;z-index: -1;}#sk-container-id-4 div.sk-parallel-item {display: flex;flex-direction: column;z-index: 1;position: relative;background-color: white;}#sk-container-id-4 div.sk-parallel-item:first-child::after {align-self: flex-end;width: 50%;}#sk-container-id-4 div.sk-parallel-item:last-child::after {align-self: flex-start;width: 50%;}#sk-container-id-4 div.sk-parallel-item:only-child::after {width: 0;}#sk-container-id-4 div.sk-dashed-wrapped {border: 1px dashed gray;margin: 0 0.4em 0.5em 0.4em;box-sizing: border-box;padding-bottom: 0.4em;background-color: white;}#sk-container-id-4 div.sk-label label {font-family: monospace;font-weight: bold;display: inline-block;line-height: 1.2em;}#sk-container-id-4 div.sk-label-container {text-align: center;}#sk-container-id-4 div.sk-container {/* jupyter's `normalize.less` sets `[hidden] { display: none; }` but bootstrap.min.css set `[hidden] { display: none !important; }` so we also need the `!important` here to be able to override the default hidden behavior on the sphinx rendered scikit-learn.org. See: https://github.com/scikit-learn/scikit-learn/issues/21755 */display: inline-block !important;position: relative;}#sk-container-id-4 div.sk-text-repr-fallback {display: none;}</style><div id=\"sk-container-id-4\" class=\"sk-top-container\"><div class=\"sk-text-repr-fallback\"><pre>LinearRegression()</pre><b>In a Jupyter environment, please rerun this cell to show the HTML representation or trust the notebook. <br />On GitHub, the HTML representation is unable to render, please try loading this page with nbviewer.org.</b></div><div class=\"sk-container\" hidden><div class=\"sk-item\"><div class=\"sk-estimator sk-toggleable\"><input class=\"sk-toggleable__control sk-hidden--visually\" id=\"sk-estimator-id-4\" type=\"checkbox\" checked><label for=\"sk-estimator-id-4\" class=\"sk-toggleable__label sk-toggleable__label-arrow\">LinearRegression</label><div class=\"sk-toggleable__content\"><pre>LinearRegression()</pre></div></div></div></div></div>"
      ],
      "text/plain": [
       "LinearRegression()"
      ]
     },
     "execution_count": 38,
     "metadata": {},
     "output_type": "execute_result"
    }
   ],
   "source": [
    "# fit the model to the training data\n",
    "model.fit(x_train, y_train)"
   ]
  },
  {
   "cell_type": "code",
   "execution_count": 39,
   "id": "e8871d70",
   "metadata": {},
   "outputs": [
    {
     "name": "stdout",
     "output_type": "stream",
     "text": [
      "Mean Absolute Error: 51257.47783333564\n",
      "Mean Squared Error: 3503165674.7176905\n",
      "R-Squared: 5.639059449058514e-06\n"
     ]
    }
   ],
   "source": [
    "from sklearn.metrics import mean_absolute_error, mean_squared_error, r2_score\n",
    "\n",
    "#make predictions on the testing data\n",
    "y_pred = model.predict(x_test)\n",
    "\n",
    "#Evaluate the model\n",
    "mae = mean_absolute_error(y_test, y_pred)\n",
    "mse = mean_squared_error(y_test, y_pred)\n",
    "r2 = r2_score(y_test, y_pred)\n",
    "\n",
    "print(\"Mean Absolute Error:\",mae)\n",
    "print(\"Mean Squared Error:\", mse)\n",
    "print(\"R-Squared:\",r2)"
   ]
  },
  {
   "cell_type": "code",
   "execution_count": 44,
   "id": "73419984",
   "metadata": {},
   "outputs": [
    {
     "name": "stdout",
     "output_type": "stream",
     "text": [
      "Predicted Salary: 146827.25002585392\n"
     ]
    }
   ],
   "source": [
    "#Predicting values\n",
    "New_Data = pd.DataFrame({'Position': [1],'Department': [2],'State': [3]})\n",
    "pred_sal = model.predict(New_Data)\n",
    "print(\"Predicted Salary:\", pred_sal[0])"
   ]
  },
  {
   "cell_type": "code",
   "execution_count": null,
   "id": "78a54667",
   "metadata": {},
   "outputs": [],
   "source": []
  }
 ],
 "metadata": {
  "kernelspec": {
   "display_name": "Python 3 (ipykernel)",
   "language": "python",
   "name": "python3"
  },
  "language_info": {
   "codemirror_mode": {
    "name": "ipython",
    "version": 3
   },
   "file_extension": ".py",
   "mimetype": "text/x-python",
   "name": "python",
   "nbconvert_exporter": "python",
   "pygments_lexer": "ipython3",
   "version": "3.10.7"
  }
 },
 "nbformat": 4,
 "nbformat_minor": 5
}
